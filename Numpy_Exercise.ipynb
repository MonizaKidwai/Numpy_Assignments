{
  "metadata": {
    "kernelspec": {
      "name": "python",
      "display_name": "Python (Pyodide)",
      "language": "python"
    },
    "language_info": {
      "codemirror_mode": {
        "name": "python",
        "version": 3
      },
      "file_extension": ".py",
      "mimetype": "text/x-python",
      "name": "python",
      "nbconvert_exporter": "python",
      "pygments_lexer": "ipython3",
      "version": "3.8"
    }
  },
  "nbformat_minor": 5,
  "nbformat": 4,
  "cells": [
    {
      "id": "25537fb4-a69a-423c-bc36-f07777e3b1ad",
      "cell_type": "code",
      "source": "import numpy as np",
      "metadata": {
        "trusted": true
      },
      "outputs": [],
      "execution_count": 2
    },
    {
      "id": "0d09c9a9-38d4-42e0-a269-e96646e2e0c8",
      "cell_type": "code",
      "source": "s = np.array([\n    [5, 3, 4, 6, 7, 8, 9, 1, 2],\n    [6, 7, 2, 1, 9, 5, 3, 4, 8],\n    [1, 9, 8, 3, 4, 2, 5, 6, 7],\n\n    [8, 5, 9, 7, 6, 1, 4, 2, 3],\n    [4, 2, 6, 8, 5, 3, 7, 9, 1],\n    [7, 1, 3, 9, 2, 4, 8, 5, 6],\n\n    [9, 6, 1, 5, 3, 7, 2, 8, 4],\n    [2, 8, 7, 4, 1, 9, 6, 3, 5],\n    [3, 4, 5, 2, 8, 6, 1, 7, 9]\n])",
      "metadata": {
        "trusted": true
      },
      "outputs": [],
      "execution_count": 3
    },
    {
      "id": "613a31cf-a747-43ad-b1be-794a93bd75e5",
      "cell_type": "code",
      "source": "import numpy as np\n\n# Columns: [Age, Math Marks, Science Marks]\ndata = np.array([\n    [18, 85, 78],   # Student 1\n    [19, 92, 88],   # Student 2\n    [17, 76, 95],   # Student 3\n    [18, 65, 70],   # Student 4\n    [20, 90, 85]    # Student 5\n])",
      "metadata": {
        "trusted": true
      },
      "outputs": [],
      "execution_count": 4
    },
    {
      "id": "30871e1b-9e22-47c0-b4a4-2f61d098d91a",
      "cell_type": "code",
      "source": "# Get the shape of the matrix.\ndata.shape",
      "metadata": {
        "trusted": true
      },
      "outputs": [
        {
          "execution_count": 5,
          "output_type": "execute_result",
          "data": {
            "text/plain": "(5, 3)"
          },
          "metadata": {}
        }
      ],
      "execution_count": 5
    },
    {
      "id": "5f381e58-e321-4d8d-8dc1-68df5c2adfc9",
      "cell_type": "code",
      "source": "# Find the average age of students.\nnp.mean(data[:,0])",
      "metadata": {
        "trusted": true
      },
      "outputs": [
        {
          "execution_count": 6,
          "output_type": "execute_result",
          "data": {
            "text/plain": "np.float64(18.4)"
          },
          "metadata": {}
        }
      ],
      "execution_count": 6
    },
    {
      "id": "1f816bdd-9f52-439d-a6ee-e4c055c90992",
      "cell_type": "code",
      "source": "# Extract Math marks of all students.\ndata[:,1]",
      "metadata": {
        "trusted": true
      },
      "outputs": [
        {
          "execution_count": 7,
          "output_type": "execute_result",
          "data": {
            "text/plain": "array([85, 92, 76, 65, 90])"
          },
          "metadata": {}
        }
      ],
      "execution_count": 7
    },
    {
      "id": "0feba080-19d8-418d-823b-c18273d0c082",
      "cell_type": "code",
      "source": "# Find the highest Science mark.\nnp.max(data[:,2])",
      "metadata": {
        "trusted": true
      },
      "outputs": [
        {
          "execution_count": 8,
          "output_type": "execute_result",
          "data": {
            "text/plain": "np.int32(95)"
          },
          "metadata": {}
        }
      ],
      "execution_count": 8
    },
    {
      "id": "a2945763-6970-475a-8864-32a7102166ae",
      "cell_type": "code",
      "source": "# Get details of the student who scored more than 90 in Math.\ndata[data[:,1] > 90]",
      "metadata": {
        "trusted": true
      },
      "outputs": [
        {
          "execution_count": 9,
          "output_type": "execute_result",
          "data": {
            "text/plain": "array([[19, 92, 88]])"
          },
          "metadata": {}
        }
      ],
      "execution_count": 9
    },
    {
      "id": "7c909488-2443-47f6-bf5c-3ac99ebea199",
      "cell_type": "code",
      "source": "data",
      "metadata": {
        "trusted": true
      },
      "outputs": [
        {
          "execution_count": 10,
          "output_type": "execute_result",
          "data": {
            "text/plain": "array([[18, 85, 78],\n       [19, 92, 88],\n       [17, 76, 95],\n       [18, 65, 70],\n       [20, 90, 85]])"
          },
          "metadata": {}
        }
      ],
      "execution_count": 10
    },
    {
      "id": "65e5e344-dba1-48f2-9b29-a5762500d49b",
      "cell_type": "code",
      "source": "# Increase math marks of all students by 5\ndata[:,1] += 5\ndata",
      "metadata": {
        "trusted": true
      },
      "outputs": [
        {
          "execution_count": 11,
          "output_type": "execute_result",
          "data": {
            "text/plain": "array([[18, 90, 78],\n       [19, 97, 88],\n       [17, 81, 95],\n       [18, 70, 70],\n       [20, 95, 85]])"
          },
          "metadata": {}
        }
      ],
      "execution_count": 11
    },
    {
      "id": "25e20c2e-a512-4311-91ee-03a2da5956c1",
      "cell_type": "code",
      "source": "# Find how many students are younger than 19.\nlen(data[data[:,0] < 19])",
      "metadata": {
        "trusted": true
      },
      "outputs": [
        {
          "execution_count": 12,
          "output_type": "execute_result",
          "data": {
            "text/plain": "3"
          },
          "metadata": {}
        }
      ],
      "execution_count": 12
    },
    {
      "id": "1f1385ac-d758-4678-94f1-b312a3e269de",
      "cell_type": "code",
      "source": "# Calculate the average marks in each subject (column-wise mean).\nnp.mean(data[:,1:],axis = 0)",
      "metadata": {
        "trusted": true
      },
      "outputs": [
        {
          "execution_count": 13,
          "output_type": "execute_result",
          "data": {
            "text/plain": "array([86.6, 83.2])"
          },
          "metadata": {}
        }
      ],
      "execution_count": 13
    },
    {
      "id": "87ed0a61-50dd-42b5-87cb-b6d7b08e2909",
      "cell_type": "code",
      "source": "# Get data of students who scored at least 80 in both subjects.\ndata[(data[:,1] >= 80) & (data[:,2] >= 80)]",
      "metadata": {
        "trusted": true
      },
      "outputs": [
        {
          "execution_count": 14,
          "output_type": "execute_result",
          "data": {
            "text/plain": "array([[19, 97, 88],\n       [17, 81, 95],\n       [20, 95, 85]])"
          },
          "metadata": {}
        }
      ],
      "execution_count": 14
    },
    {
      "id": "163a80c4-a04d-47a6-aaaa-c01dee85dd31",
      "cell_type": "code",
      "source": "data",
      "metadata": {
        "trusted": true
      },
      "outputs": [
        {
          "execution_count": 15,
          "output_type": "execute_result",
          "data": {
            "text/plain": "array([[18, 90, 78],\n       [19, 97, 88],\n       [17, 81, 95],\n       [18, 70, 70],\n       [20, 95, 85]])"
          },
          "metadata": {}
        }
      ],
      "execution_count": 15
    },
    {
      "id": "d4a560cf-b49d-4da0-9674-10d1d1ce4b02",
      "cell_type": "code",
      "source": "# Replace all Science marks < 75 with 0.\ndata[:,2][data[:,2] < 75] = 0\ndata",
      "metadata": {
        "trusted": true
      },
      "outputs": [
        {
          "execution_count": 16,
          "output_type": "execute_result",
          "data": {
            "text/plain": "array([[18, 90, 78],\n       [19, 97, 88],\n       [17, 81, 95],\n       [18, 70,  0],\n       [20, 95, 85]])"
          },
          "metadata": {}
        }
      ],
      "execution_count": 16
    }
  ]
}